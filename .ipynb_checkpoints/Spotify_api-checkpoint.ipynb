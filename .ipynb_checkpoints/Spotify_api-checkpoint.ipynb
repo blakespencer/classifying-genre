{
 "cells": [
  {
   "cell_type": "markdown",
   "metadata": {},
   "source": [
    "# Classifying Genre:<br>Using a Random Forest Model to predict genre\n",
    "\n",
    "Blake Spencer<br>\n",
    "February 2019\n",
    "\n",
    "The goal of this project was to build a model that would take in features of a song provided by Spotiy's API to then predict what genre it belongs to. Choosing six generic genres defined by curated spotify playlists, 6000 songs were used to train the model. The main steps were:\n",
    "\n",
    "1. **Obtain the features of a song in a playlist and create dataframes** (this file)\n",
    "2. [Train a model being able to predict and create data for Flask app to use](https://github.com/blakespencer/classifying-genre/blob/master/analysis.ipynb)\n",
    "3. [Link Spotiy's API to try out the model on any song in their library](https://blake-spencer-projects.herokuapp.com/classification#model)\n",
    "\n",
    "Each of the links above is a Jupyter Notebook file with Python code to complete each step.\n",
    "\n",
    "The flask app front end and back end code:\n",
    "\n",
    "- [Flask app code in Python](https://github.com/blakespencer/personal-site-backend)\n",
    "- [React app code in Javascript](https://github.com/blakespencer/personal-site-frontend)\n"
   ]
  },
  {
   "cell_type": "code",
   "execution_count": 1,
   "metadata": {
    "ExecuteTime": {
     "end_time": "2019-04-09T16:51:35.795557Z",
     "start_time": "2019-04-09T16:51:34.256504Z"
    }
   },
   "outputs": [],
   "source": [
    "import os\n",
    "import sys\n",
    "import spotipy\n",
    "import webbrowser\n",
    "import spotipy.util as util\n",
    "import pandas as pd\n",
    "import pickle\n",
    "pd.options.display.max_columns = None\n",
    "from time import sleep"
   ]
  },
  {
   "cell_type": "markdown",
   "metadata": {},
   "source": [
    "### Setting up Spotify API credentials"
   ]
  },
  {
   "cell_type": "code",
   "execution_count": 2,
   "metadata": {
    "ExecuteTime": {
     "end_time": "2019-04-09T16:52:23.697187Z",
     "start_time": "2019-04-09T16:52:23.690833Z"
    }
   },
   "outputs": [],
   "source": [
    "from spotipy.oauth2 import SpotifyClientCredentials\n",
    "client_credentials_manager = SpotifyClientCredentials(client_id=os.environ['SPOTIPY_CLIENT_ID'], client_secret=os.environ['SPOTIPY_CLIENT_SECRET'])\n",
    "sp = spotipy.Spotify(client_credentials_manager=client_credentials_manager)"
   ]
  },
  {
   "cell_type": "markdown",
   "metadata": {},
   "source": [
    "### Create a function that given a track uri, it will create a row with the relevent features of a track"
   ]
  },
  {
   "cell_type": "code",
   "execution_count": 130,
   "metadata": {
    "ExecuteTime": {
     "end_time": "2019-04-09T17:57:57.687752Z",
     "start_time": "2019-04-09T17:57:57.681045Z"
    }
   },
   "outputs": [],
   "source": [
    "def get_spotify_row(uri):\n",
    "    track = sp.track(uri)\n",
    "    features = sp.audio_features(tracks=[uri])[0]\n",
    "    analysis = sp.audio_analysis(uri)\n",
    "    analysis = analysis['track']\n",
    "\n",
    "    features_data = [{\n",
    "        'track': track['name'],\n",
    "        'name': track['album']['artists'][0]['name'],\n",
    "        'acousticness': features['acousticness'],\n",
    "        'danceability': features['danceability'],\n",
    "        'energy': features['energy'],\n",
    "        'speechiness': features['speechiness'],\n",
    "        'valence': features['valence'],\n",
    "        'instrumentalness': features['instrumentalness'],\n",
    "        'liveness': features['liveness'],\n",
    "        'end_of_fade_in': analysis['end_of_fade_in'],\n",
    "        'start_of_fade_out': analysis['start_of_fade_out'],\n",
    "        'loudness':analysis['loudness'],\n",
    "        'tempo': analysis['tempo'],\n",
    "        'tempo_confidence': analysis['tempo_confidence'],\n",
    "        'time_signature_confidence': analysis['time_signature_confidence'],\n",
    "        'time_signature': analysis['time_signature']\n",
    "    }]\n",
    "    return pd.DataFrame(features_data)"
   ]
  },
  {
   "cell_type": "code",
   "execution_count": 129,
   "metadata": {
    "ExecuteTime": {
     "end_time": "2019-04-09T17:56:42.589854Z",
     "start_time": "2019-04-09T17:56:40.642678Z"
    }
   },
   "outputs": [
    {
     "data": {
      "text/html": [
       "<div>\n",
       "<style scoped>\n",
       "    .dataframe tbody tr th:only-of-type {\n",
       "        vertical-align: middle;\n",
       "    }\n",
       "\n",
       "    .dataframe tbody tr th {\n",
       "        vertical-align: top;\n",
       "    }\n",
       "\n",
       "    .dataframe thead th {\n",
       "        text-align: right;\n",
       "    }\n",
       "</style>\n",
       "<table border=\"1\" class=\"dataframe\">\n",
       "  <thead>\n",
       "    <tr style=\"text-align: right;\">\n",
       "      <th></th>\n",
       "      <th>num_samples</th>\n",
       "      <th>duration</th>\n",
       "      <th>offset_seconds</th>\n",
       "      <th>window_seconds</th>\n",
       "      <th>analysis_sample_rate</th>\n",
       "      <th>analysis_channels</th>\n",
       "      <th>end_of_fade_in</th>\n",
       "      <th>start_of_fade_out</th>\n",
       "      <th>loudness</th>\n",
       "      <th>tempo</th>\n",
       "      <th>tempo_confidence</th>\n",
       "      <th>time_signature</th>\n",
       "      <th>time_signature_confidence</th>\n",
       "      <th>key</th>\n",
       "      <th>key_confidence</th>\n",
       "      <th>mode</th>\n",
       "      <th>mode_confidence</th>\n",
       "      <th>code_version</th>\n",
       "      <th>echoprint_version</th>\n",
       "      <th>synch_version</th>\n",
       "      <th>rhythm_version</th>\n",
       "      <th>acousticness</th>\n",
       "      <th>danceability</th>\n",
       "      <th>duration_ms</th>\n",
       "      <th>energy</th>\n",
       "      <th>instrumentalness</th>\n",
       "      <th>liveness</th>\n",
       "      <th>speechiness</th>\n",
       "      <th>valence</th>\n",
       "      <th>name</th>\n",
       "      <th>track</th>\n",
       "    </tr>\n",
       "  </thead>\n",
       "  <tbody>\n",
       "    <tr>\n",
       "      <th>0</th>\n",
       "      <td>5544840</td>\n",
       "      <td>251.46667</td>\n",
       "      <td>0</td>\n",
       "      <td>0</td>\n",
       "      <td>22050</td>\n",
       "      <td>1</td>\n",
       "      <td>0.12649</td>\n",
       "      <td>245.44073</td>\n",
       "      <td>-8.489</td>\n",
       "      <td>166.222</td>\n",
       "      <td>0.195</td>\n",
       "      <td>4</td>\n",
       "      <td>0.907</td>\n",
       "      <td>3</td>\n",
       "      <td>0.015</td>\n",
       "      <td>0</td>\n",
       "      <td>0.167</td>\n",
       "      <td>3.15</td>\n",
       "      <td>4.12</td>\n",
       "      <td>1.0</td>\n",
       "      <td>1.0</td>\n",
       "      <td>0.746</td>\n",
       "      <td>0.665</td>\n",
       "      <td>251467</td>\n",
       "      <td>0.637</td>\n",
       "      <td>0.000131</td>\n",
       "      <td>0.0948</td>\n",
       "      <td>0.0404</td>\n",
       "      <td>0.966</td>\n",
       "      <td>Aaron Neville</td>\n",
       "      <td>Hercules</td>\n",
       "    </tr>\n",
       "  </tbody>\n",
       "</table>\n",
       "</div>"
      ],
      "text/plain": [
       "   num_samples   duration  offset_seconds  window_seconds  \\\n",
       "0      5544840  251.46667               0               0   \n",
       "\n",
       "   analysis_sample_rate  analysis_channels  end_of_fade_in  start_of_fade_out  \\\n",
       "0                 22050                  1         0.12649          245.44073   \n",
       "\n",
       "   loudness    tempo  tempo_confidence  time_signature  \\\n",
       "0    -8.489  166.222             0.195               4   \n",
       "\n",
       "   time_signature_confidence  key  key_confidence  mode  mode_confidence  \\\n",
       "0                      0.907    3           0.015     0            0.167   \n",
       "\n",
       "   code_version  echoprint_version  synch_version  rhythm_version  \\\n",
       "0          3.15               4.12            1.0             1.0   \n",
       "\n",
       "   acousticness  danceability  duration_ms  energy  instrumentalness  \\\n",
       "0         0.746         0.665       251467   0.637          0.000131   \n",
       "\n",
       "   liveness  speechiness  valence           name     track  \n",
       "0    0.0948       0.0404    0.966  Aaron Neville  Hercules  "
      ]
     },
     "execution_count": 129,
     "metadata": {},
     "output_type": "execute_result"
    }
   ],
   "source": [
    "get_spotify_row('1wxF8huN8OO1HkiDCEFLR2')"
   ]
  },
  {
   "cell_type": "markdown",
   "metadata": {},
   "source": [
    "### A function that given a playlist uri, it will return all the track uris"
   ]
  },
  {
   "cell_type": "code",
   "execution_count": 137,
   "metadata": {
    "ExecuteTime": {
     "end_time": "2019-04-09T18:00:34.851252Z",
     "start_time": "2019-04-09T18:00:34.845823Z"
    }
   },
   "outputs": [],
   "source": [
    "def get_playlist_tracks(playlist_id):\n",
    "    playlist = sp.user_playlist('Spotify', playlist_id)\n",
    "    track_uris = [i['track']['uri'] for i in playlist['tracks']['items']]\n",
    "    return track_uris\n",
    "    "
   ]
  },
  {
   "cell_type": "code",
   "execution_count": 142,
   "metadata": {
    "ExecuteTime": {
     "end_time": "2019-04-09T18:05:43.262354Z",
     "start_time": "2019-04-09T18:05:43.060108Z"
    },
    "scrolled": true
   },
   "outputs": [],
   "source": [
    "list_of_uris = get_playlist_tracks('spotify:user:spotify:playlist:37i9dQZF1DX4GMJS146m00')"
   ]
  },
  {
   "cell_type": "code",
   "execution_count": 144,
   "metadata": {
    "ExecuteTime": {
     "end_time": "2019-04-09T18:05:55.130267Z",
     "start_time": "2019-04-09T18:05:55.125011Z"
    }
   },
   "outputs": [
    {
     "data": {
      "text/plain": [
       "['spotify:track:1E4sRb8cHi8cmK14NLFfa9',\n",
       " 'spotify:track:000T3UePdtzQlaOq99B32r']"
      ]
     },
     "execution_count": 144,
     "metadata": {},
     "output_type": "execute_result"
    }
   ],
   "source": [
    "list_of_uris[0: 2]"
   ]
  },
  {
   "cell_type": "markdown",
   "metadata": {},
   "source": [
    "### Function that given a playlist id, it will create a dataframe with all the tracks features in that playlist and label it with the given genre"
   ]
  },
  {
   "cell_type": "code",
   "execution_count": 138,
   "metadata": {
    "ExecuteTime": {
     "end_time": "2019-04-09T18:00:35.422761Z",
     "start_time": "2019-04-09T18:00:35.416233Z"
    }
   },
   "outputs": [],
   "source": [
    "def create_genre_df(playlist_id, genre):\n",
    "    tracks = get_playlist_tracks(playlist_id)\n",
    "    df = None\n",
    "    isFirst = True\n",
    "    for i in tracks:\n",
    "        if(isFirst):\n",
    "            df = get_spotify_row(i) \n",
    "            isFirst = False\n",
    "        else:\n",
    "            df = df.append(get_spotify_row(i), ignore_index=True)\n",
    "    df['genre'] = genre\n",
    "    return df"
   ]
  },
  {
   "cell_type": "code",
   "execution_count": 139,
   "metadata": {
    "ExecuteTime": {
     "end_time": "2019-04-09T18:03:50.498020Z",
     "start_time": "2019-04-09T18:00:35.922959Z"
    }
   },
   "outputs": [],
   "source": [
    "df_soul = create_genre_df('spotify:user:spotify:playlist:37i9dQZF1DX4GMJS146m00', 'soul')"
   ]
  },
  {
   "cell_type": "code",
   "execution_count": 146,
   "metadata": {
    "ExecuteTime": {
     "end_time": "2019-04-09T18:06:23.943110Z",
     "start_time": "2019-04-09T18:06:23.926440Z"
    }
   },
   "outputs": [
    {
     "data": {
      "text/html": [
       "<div>\n",
       "<style scoped>\n",
       "    .dataframe tbody tr th:only-of-type {\n",
       "        vertical-align: middle;\n",
       "    }\n",
       "\n",
       "    .dataframe tbody tr th {\n",
       "        vertical-align: top;\n",
       "    }\n",
       "\n",
       "    .dataframe thead th {\n",
       "        text-align: right;\n",
       "    }\n",
       "</style>\n",
       "<table border=\"1\" class=\"dataframe\">\n",
       "  <thead>\n",
       "    <tr style=\"text-align: right;\">\n",
       "      <th></th>\n",
       "      <th>acousticness</th>\n",
       "      <th>danceability</th>\n",
       "      <th>end_of_fade_in</th>\n",
       "      <th>energy</th>\n",
       "      <th>instrumentalness</th>\n",
       "      <th>liveness</th>\n",
       "      <th>loudness</th>\n",
       "      <th>name</th>\n",
       "      <th>speechiness</th>\n",
       "      <th>start_of_fade_out</th>\n",
       "      <th>tempo</th>\n",
       "      <th>tempo_confidence</th>\n",
       "      <th>time_signature</th>\n",
       "      <th>time_signature_confidence</th>\n",
       "      <th>track</th>\n",
       "      <th>valence</th>\n",
       "      <th>genre</th>\n",
       "    </tr>\n",
       "  </thead>\n",
       "  <tbody>\n",
       "    <tr>\n",
       "      <th>0</th>\n",
       "      <td>0.288</td>\n",
       "      <td>0.605</td>\n",
       "      <td>0.17701</td>\n",
       "      <td>0.315</td>\n",
       "      <td>0.000000</td>\n",
       "      <td>0.5990</td>\n",
       "      <td>-8.958</td>\n",
       "      <td>Various Artists</td>\n",
       "      <td>0.0264</td>\n",
       "      <td>155.94522</td>\n",
       "      <td>111.252</td>\n",
       "      <td>0.267</td>\n",
       "      <td>3</td>\n",
       "      <td>0.816</td>\n",
       "      <td>(You Make Me Feel Like) A Natural Woman</td>\n",
       "      <td>0.441</td>\n",
       "      <td>soul</td>\n",
       "    </tr>\n",
       "    <tr>\n",
       "      <th>1</th>\n",
       "      <td>0.450</td>\n",
       "      <td>0.764</td>\n",
       "      <td>0.26118</td>\n",
       "      <td>0.690</td>\n",
       "      <td>0.000000</td>\n",
       "      <td>0.0815</td>\n",
       "      <td>-5.961</td>\n",
       "      <td>The Temptations</td>\n",
       "      <td>0.0473</td>\n",
       "      <td>145.33950</td>\n",
       "      <td>119.481</td>\n",
       "      <td>0.901</td>\n",
       "      <td>4</td>\n",
       "      <td>0.914</td>\n",
       "      <td>Ain't Too Proud To Beg</td>\n",
       "      <td>0.939</td>\n",
       "      <td>soul</td>\n",
       "    </tr>\n",
       "    <tr>\n",
       "      <th>2</th>\n",
       "      <td>0.318</td>\n",
       "      <td>0.634</td>\n",
       "      <td>0.25782</td>\n",
       "      <td>0.677</td>\n",
       "      <td>0.000000</td>\n",
       "      <td>0.0902</td>\n",
       "      <td>-7.190</td>\n",
       "      <td>Jackie Wilson</td>\n",
       "      <td>0.0448</td>\n",
       "      <td>168.55946</td>\n",
       "      <td>95.792</td>\n",
       "      <td>0.197</td>\n",
       "      <td>4</td>\n",
       "      <td>1.000</td>\n",
       "      <td>(Your Love Keeps Lifting Me) Higher &amp; Higher</td>\n",
       "      <td>0.939</td>\n",
       "      <td>soul</td>\n",
       "    </tr>\n",
       "    <tr>\n",
       "      <th>3</th>\n",
       "      <td>0.651</td>\n",
       "      <td>0.386</td>\n",
       "      <td>0.26635</td>\n",
       "      <td>0.578</td>\n",
       "      <td>0.000000</td>\n",
       "      <td>0.3080</td>\n",
       "      <td>-5.584</td>\n",
       "      <td>Sam Cooke</td>\n",
       "      <td>0.0365</td>\n",
       "      <td>154.79583</td>\n",
       "      <td>106.505</td>\n",
       "      <td>0.031</td>\n",
       "      <td>3</td>\n",
       "      <td>1.000</td>\n",
       "      <td>Bring It On Home To Me</td>\n",
       "      <td>0.583</td>\n",
       "      <td>soul</td>\n",
       "    </tr>\n",
       "    <tr>\n",
       "      <th>4</th>\n",
       "      <td>0.628</td>\n",
       "      <td>0.697</td>\n",
       "      <td>0.37156</td>\n",
       "      <td>0.656</td>\n",
       "      <td>0.000024</td>\n",
       "      <td>0.4220</td>\n",
       "      <td>-5.380</td>\n",
       "      <td>Various Artists</td>\n",
       "      <td>0.0424</td>\n",
       "      <td>160.61243</td>\n",
       "      <td>125.624</td>\n",
       "      <td>0.155</td>\n",
       "      <td>4</td>\n",
       "      <td>1.000</td>\n",
       "      <td>My Guy</td>\n",
       "      <td>0.890</td>\n",
       "      <td>soul</td>\n",
       "    </tr>\n",
       "  </tbody>\n",
       "</table>\n",
       "</div>"
      ],
      "text/plain": [
       "   acousticness  danceability  end_of_fade_in  energy  instrumentalness  \\\n",
       "0         0.288         0.605         0.17701   0.315          0.000000   \n",
       "1         0.450         0.764         0.26118   0.690          0.000000   \n",
       "2         0.318         0.634         0.25782   0.677          0.000000   \n",
       "3         0.651         0.386         0.26635   0.578          0.000000   \n",
       "4         0.628         0.697         0.37156   0.656          0.000024   \n",
       "\n",
       "   liveness  loudness             name  speechiness  start_of_fade_out  \\\n",
       "0    0.5990    -8.958  Various Artists       0.0264          155.94522   \n",
       "1    0.0815    -5.961  The Temptations       0.0473          145.33950   \n",
       "2    0.0902    -7.190    Jackie Wilson       0.0448          168.55946   \n",
       "3    0.3080    -5.584        Sam Cooke       0.0365          154.79583   \n",
       "4    0.4220    -5.380  Various Artists       0.0424          160.61243   \n",
       "\n",
       "     tempo  tempo_confidence  time_signature  time_signature_confidence  \\\n",
       "0  111.252             0.267               3                      0.816   \n",
       "1  119.481             0.901               4                      0.914   \n",
       "2   95.792             0.197               4                      1.000   \n",
       "3  106.505             0.031               3                      1.000   \n",
       "4  125.624             0.155               4                      1.000   \n",
       "\n",
       "                                          track  valence genre  \n",
       "0       (You Make Me Feel Like) A Natural Woman    0.441  soul  \n",
       "1                        Ain't Too Proud To Beg    0.939  soul  \n",
       "2  (Your Love Keeps Lifting Me) Higher & Higher    0.939  soul  \n",
       "3                        Bring It On Home To Me    0.583  soul  \n",
       "4                                        My Guy    0.890  soul  "
      ]
     },
     "execution_count": 146,
     "metadata": {},
     "output_type": "execute_result"
    }
   ],
   "source": [
    "df_soul.head()"
   ]
  },
  {
   "cell_type": "markdown",
   "metadata": {},
   "source": [
    "### Create a function that given a list of playlist uris will return a dataframe "
   ]
  },
  {
   "cell_type": "code",
   "execution_count": 149,
   "metadata": {
    "ExecuteTime": {
     "end_time": "2019-04-09T18:19:59.092355Z",
     "start_time": "2019-04-09T18:19:59.087246Z"
    }
   },
   "outputs": [],
   "source": [
    "def create_track_df_from_playlists(playlist_uris, genre):\n",
    "    df = None\n",
    "    first = True\n",
    "    for i in playlist_uris:\n",
    "        if(first):\n",
    "            print(i)\n",
    "            df = create_genre_df(i, genre)\n",
    "            first = False\n",
    "        else:\n",
    "            sleep(4)\n",
    "            df.append(create_genre_df(i, genre))\n",
    "            \n",
    "    df.drop_duplicates(inplace=True)\n",
    "    return df\n",
    "            "
   ]
  },
  {
   "cell_type": "code",
   "execution_count": 150,
   "metadata": {
    "ExecuteTime": {
     "end_time": "2019-04-09T18:20:14.881575Z",
     "start_time": "2019-04-09T18:20:14.878502Z"
    }
   },
   "outputs": [],
   "source": [
    "playlist_uris = ([\n",
    "    'spotify:user:spotify:playlist:37i9dQZF1DX6PKX5dyBKeq',\n",
    "    'spotify:user:spotify:playlist:37i9dQZF1DWSOkubnsDCSS',\n",
    "    'spotify:user:2018hits:playlist:2wHOIKXfBwd2roCCyJGwSC',\n",
    "    'spotify:user:spotify:playlist:37i9dQZF1DX0XUsuxWHRQd'\n",
    "])"
   ]
  },
  {
   "cell_type": "code",
   "execution_count": 151,
   "metadata": {
    "ExecuteTime": {
     "end_time": "2019-04-09T18:31:18.556973Z",
     "start_time": "2019-04-09T18:20:19.282560Z"
    }
   },
   "outputs": [
    {
     "name": "stdout",
     "output_type": "stream",
     "text": [
      "spotify:user:spotify:playlist:37i9dQZF1DX6PKX5dyBKeq\n"
     ]
    }
   ],
   "source": [
    "df_rap = create_track_df_from_playlists(playlist_uris, 'rap')"
   ]
  },
  {
   "cell_type": "code",
   "execution_count": 206,
   "metadata": {},
   "outputs": [],
   "source": [
    "with open('aws_data/spotify_rap_df.pkl', 'wb') as picklefile:\n",
    "    pickle.dump(df_rap, picklefile)"
   ]
  },
  {
   "cell_type": "code",
   "execution_count": null,
   "metadata": {},
   "outputs": [],
   "source": []
  }
 ],
 "metadata": {
  "kernelspec": {
   "display_name": "Python 3",
   "language": "python",
   "name": "python3"
  },
  "language_info": {
   "codemirror_mode": {
    "name": "ipython",
    "version": 3
   },
   "file_extension": ".py",
   "mimetype": "text/x-python",
   "name": "python",
   "nbconvert_exporter": "python",
   "pygments_lexer": "ipython3",
   "version": "3.7.2"
  }
 },
 "nbformat": 4,
 "nbformat_minor": 2
}
